{
  "nbformat": 4,
  "nbformat_minor": 0,
  "metadata": {
    "colab": {
      "name": "flaml-nba.ipynb",
      "provenance": [],
      "authorship_tag": "ABX9TyP/mCMpdIM6Jn1YxAlXy/1O",
      "include_colab_link": true
    },
    "kernelspec": {
      "name": "python3",
      "display_name": "Python 3"
    },
    "language_info": {
      "name": "python"
    }
  },
  "cells": [
    {
      "cell_type": "markdown",
      "metadata": {
        "id": "view-in-github",
        "colab_type": "text"
      },
      "source": [
        "<a href=\"https://colab.research.google.com/github/noahgift/flaml-nba/blob/main/flaml_nba.ipynb\" target=\"_parent\"><img src=\"https://colab.research.google.com/assets/colab-badge.svg\" alt=\"Open In Colab\"/></a>"
      ]
    },
    {
      "cell_type": "markdown",
      "metadata": {
        "id": "8iOBzV-auaPp"
      },
      "source": [
        "## Ingest"
      ]
    },
    {
      "cell_type": "code",
      "metadata": {
        "id": "xYVe1TFXuWS2"
      },
      "source": [
        "!pip install -q flaml"
      ],
      "execution_count": 2,
      "outputs": []
    },
    {
      "cell_type": "code",
      "metadata": {
        "id": "DgvFLvQwugQu"
      },
      "source": [
        "import pandas as pd\n",
        "df = pd.read_csv(\"https://raw.githubusercontent.com/noahgift/socialpowernba/master/data/nba_2017_players_with_salary_wiki_twitter.csv\")"
      ],
      "execution_count": 3,
      "outputs": []
    },
    {
      "cell_type": "code",
      "metadata": {
        "colab": {
          "base_uri": "https://localhost:8080/",
          "height": 330
        },
        "id": "hsqKiJg2v-bV",
        "outputId": "54402198-ba11-4e29-c342-ce95bc62b6d5"
      },
      "source": [
        "df.head()"
      ],
      "execution_count": 5,
      "outputs": [
        {
          "output_type": "execute_result",
          "data": {
            "text/html": [
              "<div>\n",
              "<style scoped>\n",
              "    .dataframe tbody tr th:only-of-type {\n",
              "        vertical-align: middle;\n",
              "    }\n",
              "\n",
              "    .dataframe tbody tr th {\n",
              "        vertical-align: top;\n",
              "    }\n",
              "\n",
              "    .dataframe thead th {\n",
              "        text-align: right;\n",
              "    }\n",
              "</style>\n",
              "<table border=\"1\" class=\"dataframe\">\n",
              "  <thead>\n",
              "    <tr style=\"text-align: right;\">\n",
              "      <th></th>\n",
              "      <th>Unnamed: 0</th>\n",
              "      <th>Rk</th>\n",
              "      <th>PLAYER</th>\n",
              "      <th>POSITION</th>\n",
              "      <th>AGE</th>\n",
              "      <th>MP</th>\n",
              "      <th>FG</th>\n",
              "      <th>FGA</th>\n",
              "      <th>FG%</th>\n",
              "      <th>3P</th>\n",
              "      <th>3PA</th>\n",
              "      <th>3P%</th>\n",
              "      <th>2P</th>\n",
              "      <th>2PA</th>\n",
              "      <th>2P%</th>\n",
              "      <th>eFG%</th>\n",
              "      <th>FT</th>\n",
              "      <th>FTA</th>\n",
              "      <th>FT%</th>\n",
              "      <th>ORB</th>\n",
              "      <th>DRB</th>\n",
              "      <th>TRB</th>\n",
              "      <th>AST</th>\n",
              "      <th>STL</th>\n",
              "      <th>BLK</th>\n",
              "      <th>TOV</th>\n",
              "      <th>PF</th>\n",
              "      <th>POINTS</th>\n",
              "      <th>TEAM</th>\n",
              "      <th>GP</th>\n",
              "      <th>MPG</th>\n",
              "      <th>ORPM</th>\n",
              "      <th>DRPM</th>\n",
              "      <th>RPM</th>\n",
              "      <th>WINS_RPM</th>\n",
              "      <th>PIE</th>\n",
              "      <th>PACE</th>\n",
              "      <th>W</th>\n",
              "      <th>SALARY_MILLIONS</th>\n",
              "      <th>PAGEVIEWS</th>\n",
              "      <th>TWITTER_FAVORITE_COUNT</th>\n",
              "      <th>TWITTER_RETWEET_COUNT</th>\n",
              "    </tr>\n",
              "  </thead>\n",
              "  <tbody>\n",
              "    <tr>\n",
              "      <th>0</th>\n",
              "      <td>0</td>\n",
              "      <td>1</td>\n",
              "      <td>Russell Westbrook</td>\n",
              "      <td>PG</td>\n",
              "      <td>28</td>\n",
              "      <td>34.6</td>\n",
              "      <td>10.2</td>\n",
              "      <td>24.0</td>\n",
              "      <td>0.425</td>\n",
              "      <td>2.5</td>\n",
              "      <td>7.2</td>\n",
              "      <td>0.343</td>\n",
              "      <td>7.7</td>\n",
              "      <td>16.8</td>\n",
              "      <td>0.459</td>\n",
              "      <td>0.476</td>\n",
              "      <td>8.8</td>\n",
              "      <td>10.4</td>\n",
              "      <td>0.845</td>\n",
              "      <td>1.7</td>\n",
              "      <td>9.0</td>\n",
              "      <td>10.7</td>\n",
              "      <td>10.4</td>\n",
              "      <td>1.6</td>\n",
              "      <td>0.4</td>\n",
              "      <td>5.4</td>\n",
              "      <td>2.3</td>\n",
              "      <td>31.6</td>\n",
              "      <td>OKC</td>\n",
              "      <td>81</td>\n",
              "      <td>34.6</td>\n",
              "      <td>6.74</td>\n",
              "      <td>-0.47</td>\n",
              "      <td>6.27</td>\n",
              "      <td>17.34</td>\n",
              "      <td>23.0</td>\n",
              "      <td>102.31</td>\n",
              "      <td>46</td>\n",
              "      <td>26.50</td>\n",
              "      <td>4279.0</td>\n",
              "      <td>2130.5</td>\n",
              "      <td>559.0</td>\n",
              "    </tr>\n",
              "    <tr>\n",
              "      <th>1</th>\n",
              "      <td>1</td>\n",
              "      <td>2</td>\n",
              "      <td>James Harden</td>\n",
              "      <td>PG</td>\n",
              "      <td>27</td>\n",
              "      <td>36.4</td>\n",
              "      <td>8.3</td>\n",
              "      <td>18.9</td>\n",
              "      <td>0.440</td>\n",
              "      <td>3.2</td>\n",
              "      <td>9.3</td>\n",
              "      <td>0.347</td>\n",
              "      <td>5.1</td>\n",
              "      <td>9.6</td>\n",
              "      <td>0.530</td>\n",
              "      <td>0.525</td>\n",
              "      <td>9.2</td>\n",
              "      <td>10.9</td>\n",
              "      <td>0.847</td>\n",
              "      <td>1.2</td>\n",
              "      <td>7.0</td>\n",
              "      <td>8.1</td>\n",
              "      <td>11.2</td>\n",
              "      <td>1.5</td>\n",
              "      <td>0.5</td>\n",
              "      <td>5.7</td>\n",
              "      <td>2.7</td>\n",
              "      <td>29.1</td>\n",
              "      <td>HOU</td>\n",
              "      <td>81</td>\n",
              "      <td>36.4</td>\n",
              "      <td>6.38</td>\n",
              "      <td>-1.57</td>\n",
              "      <td>4.81</td>\n",
              "      <td>15.54</td>\n",
              "      <td>19.0</td>\n",
              "      <td>102.98</td>\n",
              "      <td>54</td>\n",
              "      <td>26.50</td>\n",
              "      <td>3279.0</td>\n",
              "      <td>969.0</td>\n",
              "      <td>321.5</td>\n",
              "    </tr>\n",
              "    <tr>\n",
              "      <th>2</th>\n",
              "      <td>2</td>\n",
              "      <td>4</td>\n",
              "      <td>Anthony Davis</td>\n",
              "      <td>C</td>\n",
              "      <td>23</td>\n",
              "      <td>36.1</td>\n",
              "      <td>10.3</td>\n",
              "      <td>20.3</td>\n",
              "      <td>0.505</td>\n",
              "      <td>0.5</td>\n",
              "      <td>1.8</td>\n",
              "      <td>0.299</td>\n",
              "      <td>9.7</td>\n",
              "      <td>18.6</td>\n",
              "      <td>0.524</td>\n",
              "      <td>0.518</td>\n",
              "      <td>6.9</td>\n",
              "      <td>8.6</td>\n",
              "      <td>0.802</td>\n",
              "      <td>2.3</td>\n",
              "      <td>9.5</td>\n",
              "      <td>11.8</td>\n",
              "      <td>2.1</td>\n",
              "      <td>1.3</td>\n",
              "      <td>2.2</td>\n",
              "      <td>2.4</td>\n",
              "      <td>2.2</td>\n",
              "      <td>28.0</td>\n",
              "      <td>NO</td>\n",
              "      <td>75</td>\n",
              "      <td>36.1</td>\n",
              "      <td>0.45</td>\n",
              "      <td>3.90</td>\n",
              "      <td>4.35</td>\n",
              "      <td>12.81</td>\n",
              "      <td>19.2</td>\n",
              "      <td>100.19</td>\n",
              "      <td>31</td>\n",
              "      <td>22.12</td>\n",
              "      <td>82.5</td>\n",
              "      <td>368.0</td>\n",
              "      <td>104.0</td>\n",
              "    </tr>\n",
              "    <tr>\n",
              "      <th>3</th>\n",
              "      <td>3</td>\n",
              "      <td>6</td>\n",
              "      <td>DeMarcus Cousins</td>\n",
              "      <td>C</td>\n",
              "      <td>26</td>\n",
              "      <td>34.2</td>\n",
              "      <td>9.0</td>\n",
              "      <td>19.9</td>\n",
              "      <td>0.452</td>\n",
              "      <td>1.8</td>\n",
              "      <td>5.0</td>\n",
              "      <td>0.361</td>\n",
              "      <td>7.2</td>\n",
              "      <td>14.8</td>\n",
              "      <td>0.483</td>\n",
              "      <td>0.498</td>\n",
              "      <td>7.2</td>\n",
              "      <td>9.3</td>\n",
              "      <td>0.772</td>\n",
              "      <td>2.1</td>\n",
              "      <td>8.9</td>\n",
              "      <td>11.0</td>\n",
              "      <td>4.6</td>\n",
              "      <td>1.4</td>\n",
              "      <td>1.3</td>\n",
              "      <td>3.7</td>\n",
              "      <td>3.9</td>\n",
              "      <td>27.0</td>\n",
              "      <td>NO/SAC</td>\n",
              "      <td>72</td>\n",
              "      <td>34.2</td>\n",
              "      <td>3.56</td>\n",
              "      <td>0.64</td>\n",
              "      <td>4.20</td>\n",
              "      <td>11.26</td>\n",
              "      <td>17.8</td>\n",
              "      <td>97.11</td>\n",
              "      <td>30</td>\n",
              "      <td>16.96</td>\n",
              "      <td>1625.5</td>\n",
              "      <td>102.0</td>\n",
              "      <td>91.5</td>\n",
              "    </tr>\n",
              "    <tr>\n",
              "      <th>4</th>\n",
              "      <td>4</td>\n",
              "      <td>7</td>\n",
              "      <td>Damian Lillard</td>\n",
              "      <td>PG</td>\n",
              "      <td>26</td>\n",
              "      <td>35.9</td>\n",
              "      <td>8.8</td>\n",
              "      <td>19.8</td>\n",
              "      <td>0.444</td>\n",
              "      <td>2.9</td>\n",
              "      <td>7.7</td>\n",
              "      <td>0.370</td>\n",
              "      <td>6.0</td>\n",
              "      <td>12.1</td>\n",
              "      <td>0.492</td>\n",
              "      <td>0.516</td>\n",
              "      <td>6.5</td>\n",
              "      <td>7.3</td>\n",
              "      <td>0.895</td>\n",
              "      <td>0.6</td>\n",
              "      <td>4.3</td>\n",
              "      <td>4.9</td>\n",
              "      <td>5.9</td>\n",
              "      <td>0.9</td>\n",
              "      <td>0.3</td>\n",
              "      <td>2.6</td>\n",
              "      <td>2.0</td>\n",
              "      <td>27.0</td>\n",
              "      <td>POR</td>\n",
              "      <td>75</td>\n",
              "      <td>35.9</td>\n",
              "      <td>4.63</td>\n",
              "      <td>-1.49</td>\n",
              "      <td>3.14</td>\n",
              "      <td>10.72</td>\n",
              "      <td>15.9</td>\n",
              "      <td>99.68</td>\n",
              "      <td>38</td>\n",
              "      <td>24.33</td>\n",
              "      <td>1830.5</td>\n",
              "      <td>186.5</td>\n",
              "      <td>43.0</td>\n",
              "    </tr>\n",
              "  </tbody>\n",
              "</table>\n",
              "</div>"
            ],
            "text/plain": [
              "   Unnamed: 0  Rk  ... TWITTER_FAVORITE_COUNT TWITTER_RETWEET_COUNT\n",
              "0           0   1  ...                 2130.5                 559.0\n",
              "1           1   2  ...                  969.0                 321.5\n",
              "2           2   4  ...                  368.0                 104.0\n",
              "3           3   6  ...                  102.0                  91.5\n",
              "4           4   7  ...                  186.5                  43.0\n",
              "\n",
              "[5 rows x 42 columns]"
            ]
          },
          "metadata": {
            "tags": []
          },
          "execution_count": 5
        }
      ]
    },
    {
      "cell_type": "code",
      "metadata": {
        "colab": {
          "base_uri": "https://localhost:8080/"
        },
        "id": "IRP8Bh_OwAvf",
        "outputId": "1eec0750-6b37-49fc-a4ef-644d5cae2b9f"
      },
      "source": [
        "from sklearn import preprocessing\n",
        "le = preprocessing.LabelEncoder()\n",
        "le.fit(df['POSITION'])\n",
        "X_train = df['AST'].to_numpy()\n",
        "y_train = le.transform(df['POSITION'])\n",
        "X_train"
      ],
      "execution_count": 22,
      "outputs": [
        {
          "output_type": "execute_result",
          "data": {
            "text/plain": [
              "array([10.4, 11.2,  2.1,  4.6,  5.9,  8.7,  3.5,  6.6,  5.8,  4.8,  2.7,\n",
              "        5.5,  3.3,  2.3,  5.5,  3.5, 10.7,  2.9,  2.1,  3.4,  3.5,  4.9,\n",
              "        6.3,  6.3,  5.8,  2.1,  2.8,  4.6,  1.9,  3. ,  3.8,  2.1,  3.7,\n",
              "        9.2,  1.5,  4.4,  6.3,  1.9,  3. ,  4.2,  4.9,  2.5,  1.7,  2.6,\n",
              "        4.3,  2. ,  4.8,  7.3,  7.8,  5.9,  2.9,  2.6,  3.4,  2.8,  5.1,\n",
              "        1.3,  0.9,  1.5,  1.7,  1.2,  5. ,  2. ,  1.7,  2.2,  2.5,  3.4,\n",
              "        3.2,  1.4,  4.6,  3.6,  1. ,  6.5,  1.9,  2.3,  2.6,  2.8,  0.7,\n",
              "        2.2,  2.2,  2.3,  1.1,  9.1,  4.3,  3.9,  1.1,  1.6,  5.5,  3.7,\n",
              "        0.9,  1.5,  2.3,  1.2,  1.5,  1.1,  4.6,  2. ,  1.1,  3.1,  1.6,\n",
              "        7. ,  1.9,  2.6,  1.6,  1.9,  1.1,  2.1,  0.9,  2.2,  1.1,  3.5,\n",
              "        2.4,  0.9,  2.1,  3.3,  0.7,  1.2,  1.6,  1.4,  5.1,  1.4,  0.6,\n",
              "        1.3,  2. ,  3.2,  1. ,  1.6,  1. ,  0.8,  0.6,  0.7,  1.3,  1.9,\n",
              "        1.1,  0.8,  1. ,  1.8,  0.6,  1.3,  2.8,  6.7,  2.6,  4.7,  1.3,\n",
              "        3.4,  2.7,  1.8,  1.6,  1.7,  0.9,  2.7,  1.9,  1.2,  0.5,  0.5,\n",
              "        0.5,  0.7,  0.6,  0.8,  2.5,  0.6,  0.7,  1. ,  1. ,  1.8,  1.5,\n",
              "        1.7,  1.5,  1. ,  1.6,  0.8,  0.2,  1.9,  2.8,  1. ,  0.5,  0.6,\n",
              "        0.9,  2.1,  0.5,  1.8,  2.6,  1. ,  1.3,  2. ,  1.8,  1. ,  1.1,\n",
              "        0.5,  1.9,  1.8,  2.2,  1. ,  0.5,  0.5,  0.9,  2.3,  0.5,  1.2,\n",
              "        0.9,  1.4,  0.4,  1.6,  1. ,  0.4,  0.7,  0.2,  0.5,  2.4,  0.9,\n",
              "        2.6,  0.4,  0.6,  0.8,  0.5,  0.3,  0.4,  0.4,  1.1,  2.5,  1.8,\n",
              "        0.9,  0.3,  0.5,  1.6,  0.3,  0.9,  0.5,  0.9,  1.7,  0.1,  0.1,\n",
              "        0.4,  1.2,  0.4,  0.6,  0.4,  0.5,  0.3,  0.5])"
            ]
          },
          "metadata": {
            "tags": []
          },
          "execution_count": 22
        }
      ]
    },
    {
      "cell_type": "markdown",
      "metadata": {
        "id": "9CkQZzxNwSTE"
      },
      "source": [
        "## Model"
      ]
    },
    {
      "cell_type": "code",
      "metadata": {
        "colab": {
          "base_uri": "https://localhost:8080/",
          "height": 382
        },
        "id": "k16DgAykwUfi",
        "outputId": "13a4377f-7e45-4350-de56-6b84dd408eca"
      },
      "source": [
        "from flaml import AutoML\n",
        "automl = AutoML()\n",
        "automl.fit(X_train, y_train, task=\"classification\")\n",
        "print(automl.predict_proba(X_train))"
      ],
      "execution_count": 24,
      "outputs": [
        {
          "output_type": "error",
          "ename": "ValueError",
          "evalue": "ignored",
          "traceback": [
            "\u001b[0;31m---------------------------------------------------------------------------\u001b[0m",
            "\u001b[0;31mValueError\u001b[0m                                Traceback (most recent call last)",
            "\u001b[0;32m<ipython-input-24-e90b2dc0821a>\u001b[0m in \u001b[0;36m<module>\u001b[0;34m()\u001b[0m\n\u001b[1;32m      1\u001b[0m \u001b[0;32mfrom\u001b[0m \u001b[0mflaml\u001b[0m \u001b[0;32mimport\u001b[0m \u001b[0mAutoML\u001b[0m\u001b[0;34m\u001b[0m\u001b[0;34m\u001b[0m\u001b[0m\n\u001b[1;32m      2\u001b[0m \u001b[0mautoml\u001b[0m \u001b[0;34m=\u001b[0m \u001b[0mAutoML\u001b[0m\u001b[0;34m(\u001b[0m\u001b[0;34m)\u001b[0m\u001b[0;34m\u001b[0m\u001b[0;34m\u001b[0m\u001b[0m\n\u001b[0;32m----> 3\u001b[0;31m \u001b[0mautoml\u001b[0m\u001b[0;34m.\u001b[0m\u001b[0mfit\u001b[0m\u001b[0;34m(\u001b[0m\u001b[0mX_train\u001b[0m\u001b[0;34m,\u001b[0m \u001b[0my_train\u001b[0m\u001b[0;34m,\u001b[0m \u001b[0mtask\u001b[0m\u001b[0;34m=\u001b[0m\u001b[0;34m\"classification\"\u001b[0m\u001b[0;34m)\u001b[0m\u001b[0;34m\u001b[0m\u001b[0;34m\u001b[0m\u001b[0m\n\u001b[0m\u001b[1;32m      4\u001b[0m \u001b[0mprint\u001b[0m\u001b[0;34m(\u001b[0m\u001b[0mautoml\u001b[0m\u001b[0;34m.\u001b[0m\u001b[0mpredict_proba\u001b[0m\u001b[0;34m(\u001b[0m\u001b[0mX_train\u001b[0m\u001b[0;34m)\u001b[0m\u001b[0;34m)\u001b[0m\u001b[0;34m\u001b[0m\u001b[0;34m\u001b[0m\u001b[0m\n",
            "\u001b[0;32m/usr/local/lib/python3.7/dist-packages/flaml/automl.py\u001b[0m in \u001b[0;36mfit\u001b[0;34m(self, X_train, y_train, dataframe, label, metric, task, n_jobs, log_file_name, estimator_list, time_budget, max_iter, sample, ensemble, eval_method, log_type, model_history, split_ratio, n_splits, log_training_metric, mem_thres, X_val, y_val, sample_weight_val, groups, verbose, retrain_full, split_type, learner_selector, hpo_method, **fit_kwargs)\u001b[0m\n\u001b[1;32m    883\u001b[0m         \u001b[0mself\u001b[0m\u001b[0;34m.\u001b[0m\u001b[0m_state\u001b[0m\u001b[0;34m.\u001b[0m\u001b[0mweight_val\u001b[0m \u001b[0;34m=\u001b[0m \u001b[0msample_weight_val\u001b[0m\u001b[0;34m\u001b[0m\u001b[0;34m\u001b[0m\u001b[0m\n\u001b[1;32m    884\u001b[0m         \u001b[0mself\u001b[0m\u001b[0;34m.\u001b[0m\u001b[0m_state\u001b[0m\u001b[0;34m.\u001b[0m\u001b[0mgroups\u001b[0m \u001b[0;34m=\u001b[0m \u001b[0mgroups\u001b[0m\u001b[0;34m\u001b[0m\u001b[0;34m\u001b[0m\u001b[0m\n\u001b[0;32m--> 885\u001b[0;31m         \u001b[0mself\u001b[0m\u001b[0;34m.\u001b[0m\u001b[0m_validate_data\u001b[0m\u001b[0;34m(\u001b[0m\u001b[0mX_train\u001b[0m\u001b[0;34m,\u001b[0m \u001b[0my_train\u001b[0m\u001b[0;34m,\u001b[0m \u001b[0mdataframe\u001b[0m\u001b[0;34m,\u001b[0m \u001b[0mlabel\u001b[0m\u001b[0;34m,\u001b[0m \u001b[0mX_val\u001b[0m\u001b[0;34m,\u001b[0m \u001b[0my_val\u001b[0m\u001b[0;34m)\u001b[0m\u001b[0;34m\u001b[0m\u001b[0;34m\u001b[0m\u001b[0m\n\u001b[0m\u001b[1;32m    886\u001b[0m         \u001b[0mself\u001b[0m\u001b[0;34m.\u001b[0m\u001b[0m_search_states\u001b[0m \u001b[0;34m=\u001b[0m \u001b[0;34m{\u001b[0m\u001b[0;34m}\u001b[0m  \u001b[0;31m# key: estimator name; value: SearchState\u001b[0m\u001b[0;34m\u001b[0m\u001b[0;34m\u001b[0m\u001b[0m\n\u001b[1;32m    887\u001b[0m         \u001b[0mself\u001b[0m\u001b[0;34m.\u001b[0m\u001b[0m_random\u001b[0m \u001b[0;34m=\u001b[0m \u001b[0mnp\u001b[0m\u001b[0;34m.\u001b[0m\u001b[0mrandom\u001b[0m\u001b[0;34m.\u001b[0m\u001b[0mRandomState\u001b[0m\u001b[0;34m(\u001b[0m\u001b[0mRANDOM_SEED\u001b[0m\u001b[0;34m)\u001b[0m\u001b[0;34m\u001b[0m\u001b[0;34m\u001b[0m\u001b[0m\n",
            "\u001b[0;32m/usr/local/lib/python3.7/dist-packages/flaml/automl.py\u001b[0m in \u001b[0;36m_validate_data\u001b[0;34m(self, X_train_all, y_train_all, dataframe, label, X_val, y_val)\u001b[0m\n\u001b[1;32m    416\u001b[0m                     \"# rows in X_train must match length of y_train.\")\n\u001b[1;32m    417\u001b[0m             \u001b[0mself\u001b[0m\u001b[0;34m.\u001b[0m\u001b[0m_df\u001b[0m \u001b[0;34m=\u001b[0m \u001b[0misinstance\u001b[0m\u001b[0;34m(\u001b[0m\u001b[0mX_train_all\u001b[0m\u001b[0;34m,\u001b[0m \u001b[0mpd\u001b[0m\u001b[0;34m.\u001b[0m\u001b[0mDataFrame\u001b[0m\u001b[0;34m)\u001b[0m\u001b[0;34m\u001b[0m\u001b[0;34m\u001b[0m\u001b[0m\n\u001b[0;32m--> 418\u001b[0;31m             \u001b[0mself\u001b[0m\u001b[0;34m.\u001b[0m\u001b[0m_nrow\u001b[0m\u001b[0;34m,\u001b[0m \u001b[0mself\u001b[0m\u001b[0;34m.\u001b[0m\u001b[0m_ndim\u001b[0m \u001b[0;34m=\u001b[0m \u001b[0mX_train_all\u001b[0m\u001b[0;34m.\u001b[0m\u001b[0mshape\u001b[0m\u001b[0;34m\u001b[0m\u001b[0;34m\u001b[0m\u001b[0m\n\u001b[0m\u001b[1;32m    419\u001b[0m             \u001b[0mX\u001b[0m\u001b[0;34m,\u001b[0m \u001b[0my\u001b[0m \u001b[0;34m=\u001b[0m \u001b[0mX_train_all\u001b[0m\u001b[0;34m,\u001b[0m \u001b[0my_train_all\u001b[0m\u001b[0;34m\u001b[0m\u001b[0;34m\u001b[0m\u001b[0m\n\u001b[1;32m    420\u001b[0m         \u001b[0;32melif\u001b[0m \u001b[0mdataframe\u001b[0m \u001b[0;32mis\u001b[0m \u001b[0;32mnot\u001b[0m \u001b[0;32mNone\u001b[0m \u001b[0;32mand\u001b[0m \u001b[0mlabel\u001b[0m \u001b[0;32mis\u001b[0m \u001b[0;32mnot\u001b[0m \u001b[0;32mNone\u001b[0m\u001b[0;34m:\u001b[0m\u001b[0;34m\u001b[0m\u001b[0;34m\u001b[0m\u001b[0m\n",
            "\u001b[0;31mValueError\u001b[0m: not enough values to unpack (expected 2, got 1)"
          ]
        }
      ]
    },
    {
      "cell_type": "code",
      "metadata": {
        "id": "_3rJ168sxFjY"
      },
      "source": [
        ""
      ],
      "execution_count": null,
      "outputs": []
    }
  ]
}